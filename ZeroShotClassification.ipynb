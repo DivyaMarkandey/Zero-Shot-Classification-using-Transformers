{
  "cells": [
    {
      "cell_type": "markdown",
      "metadata": {
        "id": "b514c073-e3b2-46db-a198-ba1c5fa3d15f"
      },
      "source": [
        "# <Font color = 'dodgerblue'>**Zero Shot Classification - Brief Overview** </font>\n",
        "\n",
        "### Introduction to Natural Language Inference (NLI)\n",
        "\n",
        "Natural Language Inference (NLI) is a task in natural language processing where a model determines the relationship between two sentences, often referred to as the premise and the hypothesis. The relationship might be **entailment (the hypothesis follows from the premise)**, contradiction, or neutrality.\n",
        "\n",
        "### Zero-Shot Classification Using Hugging Face's Pipeline\n",
        "\n",
        "Building on NLI, Hugging Face's zero-shot classification leverages entailment (hypotheses follows from the premise) relationships to classify text into various categories.\n",
        "\n",
        "1. **Premise:** The input text, like a restaurant review.\n",
        "\n",
        "2. **Labels**:<br>\n",
        "Possible labels (categories) represent distinct classifications within a given problem. In the context of the review dataset that you will be working with, the possible labels correspond to specific aspects of a dining experience. The labels include: 'food,' referring to the quality and taste of the dishes; 'ambiance,' reflecting the overall atmosphere and decor of the restaurant; 'service,' pertaining to the staff's attentiveness and professionalism; and 'other,' a category that encompasses any additional comments or observations not covered by the aforementioned labels.\n",
        "\n",
        "3. **Hypothesis Template:**<br>\n",
        "A specially formatted string that transforms each label into an NLI-style hypothesis. An example of hypothesis template could be **\"This example is {}.\"**. The {} is a placeholder where the candidate label is inserted, allowing the model to consider each label as a potential classification.\n",
        "\n",
        "3. **Forming Hypotheses using template and labels:**<br>\n",
        "Based on the label examples and hypothesis template, the resulting hypotheses will be:\n",
        "   - \"This example is food.\"\n",
        "   - \"This example is ambiance.\"\n",
        "   - \"This example is service.\"\n",
        "   - \"This example is other.\"\n",
        "\n",
        "4. **Zero-Shot Classification Process:**\n",
        "   - **Step 1:** Combine premise and hypotheses.\n",
        "   - **Step 2:** Utilize a pre-trained NLI model to calculate entailment probabilities (probability that hypothesis follows from premise) for each hypothesis.\n",
        "   - **Step 3:** Return the probabilities for each label.\n",
        "\n",
        "### Example\n",
        "\n",
        "Given a review like \"The food was excellent,\" the model might return:\n",
        "   - food: 0.95\n",
        "   - ambiance: 0.05\n",
        "   - service: 0.02\n",
        "   - other: 0.023\n",
        "\n",
        "**The probability of 0.95 for the label \"food\" means that the model has a 95% confidence that the premise \"The food was excellent\" entails the hypothesis \"This example is food.\"**  The other probabilities represent the model's confidence for the remaining labels.\n",
        "\n",
        "### Conclusion\n",
        "\n",
        "Hugging Face's zero-shot classification pipeline calculates probabilities for multiple categories by leveraging NLI concepts. This approach offers flexibility in text analysis without the need for task-specific training, providing insights into the relevance of different labels to a given text.\n",
        "\n",
        "\n"
      ]
    },
    {
      "cell_type": "markdown",
      "source": [
        "# <Font color = 'dodgerblue'>**Data and Task Description**\n",
        "\n",
        "- For this Question, you are provided a csv file (review_sentences.csv) that has 584 sentences from restautant reviews from Yelp. You have to classify the sentences in to four labels: `[\"food,\" \"ambiance,\" \"service,\" and \"other.\"]`.\n",
        "- The csv file is availble in eLearning in 0_Data folder.\n",
        "- You will use a zero-shot-classification pipleine from huggingface to make predictions.\n",
        "- You are also provided the actual labels. You will use these labels to access the accuracy of the model."
      ],
      "metadata": {
        "id": "qYn8mf9mpl_G"
      }
    },
    {
      "cell_type": "markdown",
      "metadata": {
        "id": "12773301-f940-4545-ac8e-8545ed6c964b"
      },
      "source": [
        "# <font color = 'indian red'> **Install/Import Modules**"
      ]
    },
    {
      "cell_type": "code",
      "execution_count": 1,
      "metadata": {
        "execution": {
          "iopub.execute_input": "2022-09-25T17:30:13.094523Z",
          "iopub.status.busy": "2022-09-25T17:30:13.094325Z",
          "iopub.status.idle": "2022-09-25T17:30:13.097566Z",
          "shell.execute_reply": "2022-09-25T17:30:13.096998Z",
          "shell.execute_reply.started": "2022-09-25T17:30:13.094509Z"
        },
        "id": "96a03b3c-53a5-4478-b864-e8a735f1f614",
        "tags": [],
        "colab": {
          "base_uri": "https://localhost:8080/"
        },
        "outputId": "9d347671-a341-4333-a009-094c7e6696b0"
      },
      "outputs": [
        {
          "output_type": "stream",
          "name": "stdout",
          "text": [
            "\u001b[2K     \u001b[90m━━━━━━━━━━━━━━━━━━━━━━━━━━━━━━━━━━━━━━━━\u001b[0m \u001b[32m1.3/1.3 MB\u001b[0m \u001b[31m6.7 MB/s\u001b[0m eta \u001b[36m0:00:00\u001b[0m\n",
            "\u001b[?25h"
          ]
        }
      ],
      "source": [
        "if 'google.colab' in str(get_ipython()):\n",
        "    !pip install transformers -U -qq\n",
        "    !pip install sentencepiece -U -qq"
      ]
    },
    {
      "cell_type": "code",
      "execution_count": 2,
      "metadata": {
        "execution": {
          "iopub.execute_input": "2022-09-25T17:30:19.802075Z",
          "iopub.status.busy": "2022-09-25T17:30:19.801789Z",
          "iopub.status.idle": "2022-09-25T17:30:19.804799Z",
          "shell.execute_reply": "2022-09-25T17:30:19.804440Z",
          "shell.execute_reply.started": "2022-09-25T17:30:19.802059Z"
        },
        "id": "7a9a863b-d87c-4df6-bdf3-b30aa695f846",
        "tags": []
      },
      "outputs": [],
      "source": [
        "# Import the pandas library for data manipulation and analysis\n",
        "import pandas as pd\n",
        "\n",
        "# Import the numpy library for numerical computing\n",
        "import numpy as np\n",
        "\n",
        "# Import the Matplotlib library for creating visualizations such as plots, graphs, etc.\n",
        "import matplotlib.pyplot as plt\n",
        "\n",
        "# Import the pathlib library for working with file paths in a way that is cross-platform\n",
        "from pathlib import Path\n",
        "\n",
        "# Import functions for metrics computation like confusion matrix, and accuracy\n",
        "from sklearn.metrics import confusion_matrix, ConfusionMatrixDisplay, accuracy_score, classification_report\n",
        "\n",
        "# Import the transformers library for state-of-the-art Natural Language Processing (NLP) models like BERT, GPT, etc.\n",
        "from transformers import pipeline\n"
      ]
    },
    {
      "cell_type": "code",
      "execution_count": 3,
      "metadata": {
        "colab": {
          "base_uri": "https://localhost:8080/"
        },
        "id": "hS8jehl6menq",
        "outputId": "cdd433b1-f553-466c-ac42-6317912c3898"
      },
      "outputs": [
        {
          "output_type": "stream",
          "name": "stdout",
          "text": [
            "Name: transformers\n",
            "Version: 4.41.2\n",
            "Summary: State-of-the-art Machine Learning for JAX, PyTorch and TensorFlow\n",
            "Home-page: https://github.com/huggingface/transformers\n",
            "Author: The Hugging Face team (past and future) with the help of all our contributors (https://github.com/huggingface/transformers/graphs/contributors)\n",
            "Author-email: transformers@huggingface.co\n",
            "License: Apache 2.0 License\n",
            "Location: /usr/local/lib/python3.10/dist-packages\n",
            "Requires: filelock, huggingface-hub, numpy, packaging, pyyaml, regex, requests, safetensors, tokenizers, tqdm\n",
            "Required-by: \n"
          ]
        }
      ],
      "source": [
        "!pip show transformers"
      ]
    },
    {
      "cell_type": "markdown",
      "metadata": {
        "id": "a43e7e8e-42fb-48bb-92ee-7664bba37482"
      },
      "source": [
        "# <font color = 'indian red'>**Specify Base folder for Project**"
      ]
    },
    {
      "cell_type": "code",
      "execution_count": null,
      "metadata": {
        "execution": {
          "iopub.execute_input": "2022-09-24T20:52:39.665944Z",
          "iopub.status.busy": "2022-09-24T20:52:39.665715Z",
          "iopub.status.idle": "2022-09-24T20:52:39.688510Z",
          "shell.execute_reply": "2022-09-24T20:52:39.687856Z",
          "shell.execute_reply.started": "2022-09-24T20:52:39.665930Z"
        },
        "id": "46473c1e-a70c-4f30-b0b4-baafcfc9dccf",
        "tags": []
      },
      "outputs": [],
      "source": [
        "if 'google.colab' in str(get_ipython()):\n",
        "  from google.colab import drive\n",
        "  drive.mount('/content/drive')\n",
        "  base_folder = Path('/content/drive/MyDrive/data')\n",
        "\n",
        "# (the else block is required only if you have local GPU machine)\n",
        "else:\n",
        "  base_folder = Path('/home/data')\n",
        "\n"
      ]
    },
    {
      "cell_type": "markdown",
      "metadata": {
        "id": "LEuZToXJvbp_"
      },
      "source": [
        "## <Font color = 'dodgerblue'>**Create DataFrame**"
      ]
    },
    {
      "cell_type": "code",
      "execution_count": null,
      "metadata": {
        "id": "pLouBkwinb9g"
      },
      "outputs": [],
      "source": [
        "data_folder = base_folder/'datasets/yelp_food_service_ambience'"
      ]
    },
    {
      "cell_type": "code",
      "execution_count": null,
      "metadata": {
        "id": "OS0nt6thnccL"
      },
      "outputs": [],
      "source": [
        "# location of train and test files\n",
        "data_file = data_folder /'review_sentences.csv'"
      ]
    },
    {
      "cell_type": "code",
      "execution_count": null,
      "metadata": {
        "execution": {
          "iopub.execute_input": "2022-11-27T12:00:46.966533Z",
          "iopub.status.busy": "2022-11-27T12:00:46.966294Z",
          "iopub.status.idle": "2022-11-27T12:00:47.330265Z",
          "shell.execute_reply": "2022-11-27T12:00:47.329743Z",
          "shell.execute_reply.started": "2022-11-27T12:00:46.966507Z"
        },
        "id": "98f933d1-7cf1-49fc-b3e0-33d5e1810080",
        "tags": []
      },
      "outputs": [],
      "source": [
        "# creating Pandas Dataframe\n",
        "train_data = pd.read_csv(data_file, index_col=0, encoding='ISO-8859-1')"
      ]
    },
    {
      "cell_type": "code",
      "execution_count": null,
      "metadata": {
        "colab": {
          "base_uri": "https://localhost:8080/"
        },
        "execution": {
          "iopub.execute_input": "2022-11-27T12:00:49.141600Z",
          "iopub.status.busy": "2022-11-27T12:00:49.141359Z",
          "iopub.status.idle": "2022-11-27T12:00:49.144979Z",
          "shell.execute_reply": "2022-11-27T12:00:49.144442Z",
          "shell.execute_reply.started": "2022-11-27T12:00:49.141574Z"
        },
        "id": "e51abd57-98dc-42e8-8eb7-8ee7aa2c0826",
        "outputId": "ee58a1a9-6bda-400a-f9e6-f57e824a81e0",
        "tags": []
      },
      "outputs": [
        {
          "output_type": "stream",
          "name": "stdout",
          "text": [
            "Shape of Training data set is : (584, 2)\n"
          ]
        }
      ],
      "source": [
        "# print shape of the datasets\n",
        "print(f'Shape of Training data set is : {train_data.shape}')"
      ]
    },
    {
      "cell_type": "code",
      "execution_count": null,
      "metadata": {
        "colab": {
          "base_uri": "https://localhost:8080/"
        },
        "execution": {
          "iopub.execute_input": "2022-11-27T12:00:53.875850Z",
          "iopub.status.busy": "2022-11-27T12:00:53.875722Z",
          "iopub.status.idle": "2022-11-27T12:00:53.881530Z",
          "shell.execute_reply": "2022-11-27T12:00:53.880914Z",
          "shell.execute_reply.started": "2022-11-27T12:00:53.875838Z"
        },
        "id": "8d3157a4-b99c-40b8-af7a-07f604a819a1",
        "outputId": "769ddbbf-af7a-49ba-fcf3-1111e0d8a953",
        "tags": []
      },
      "outputs": [
        {
          "output_type": "stream",
          "name": "stdout",
          "text": [
            "<class 'pandas.core.frame.DataFrame'>\n",
            "Index: 584 entries, 0 to 599\n",
            "Data columns (total 2 columns):\n",
            " #   Column       Non-Null Count  Dtype \n",
            "---  ------       --------------  ----- \n",
            " 0   text         584 non-null    object\n",
            " 1   final_label  584 non-null    object\n",
            "dtypes: object(2)\n",
            "memory usage: 13.7+ KB\n"
          ]
        }
      ],
      "source": [
        "train_data.info()"
      ]
    },
    {
      "cell_type": "code",
      "execution_count": null,
      "metadata": {
        "colab": {
          "base_uri": "https://localhost:8080/",
          "height": 237
        },
        "id": "HfJq-sfztFWK",
        "outputId": "422e7144-45ef-407b-d534-d9dc06a549af"
      },
      "outputs": [
        {
          "output_type": "execute_result",
          "data": {
            "text/plain": [
              "                                                        text final_label\n",
              "sentences                                                               \n",
              "0          If you love unagi (eel) on rice, you'll absolu...        food\n",
              "1                       But it is definitely worth the wait.     service\n",
              "3          Sometimes get the Pho w/ rare beef which is de...        food\n",
              "4          Other items on this menu was a crab soup, duck...        food\n",
              "5          I visited the restaurant for lunch and arrived...       other"
            ],
            "text/html": [
              "<div>\n",
              "<style scoped>\n",
              "    .dataframe tbody tr th:only-of-type {\n",
              "        vertical-align: middle;\n",
              "    }\n",
              "\n",
              "    .dataframe tbody tr th {\n",
              "        vertical-align: top;\n",
              "    }\n",
              "\n",
              "    .dataframe thead th {\n",
              "        text-align: right;\n",
              "    }\n",
              "</style>\n",
              "<table border=\"1\" class=\"dataframe\">\n",
              "  <thead>\n",
              "    <tr style=\"text-align: right;\">\n",
              "      <th></th>\n",
              "      <th>text</th>\n",
              "      <th>final_label</th>\n",
              "    </tr>\n",
              "    <tr>\n",
              "      <th>sentences</th>\n",
              "      <th></th>\n",
              "      <th></th>\n",
              "    </tr>\n",
              "  </thead>\n",
              "  <tbody>\n",
              "    <tr>\n",
              "      <th>0</th>\n",
              "      <td>If you love unagi (eel) on rice, you'll absolu...</td>\n",
              "      <td>food</td>\n",
              "    </tr>\n",
              "    <tr>\n",
              "      <th>1</th>\n",
              "      <td>But it is definitely worth the wait.</td>\n",
              "      <td>service</td>\n",
              "    </tr>\n",
              "    <tr>\n",
              "      <th>3</th>\n",
              "      <td>Sometimes get the Pho w/ rare beef which is de...</td>\n",
              "      <td>food</td>\n",
              "    </tr>\n",
              "    <tr>\n",
              "      <th>4</th>\n",
              "      <td>Other items on this menu was a crab soup, duck...</td>\n",
              "      <td>food</td>\n",
              "    </tr>\n",
              "    <tr>\n",
              "      <th>5</th>\n",
              "      <td>I visited the restaurant for lunch and arrived...</td>\n",
              "      <td>other</td>\n",
              "    </tr>\n",
              "  </tbody>\n",
              "</table>\n",
              "</div>"
            ]
          },
          "metadata": {},
          "execution_count": 25
        }
      ],
      "source": [
        "# check first five examples\n",
        "train_data.head()"
      ]
    },
    {
      "cell_type": "code",
      "execution_count": null,
      "metadata": {
        "colab": {
          "base_uri": "https://localhost:8080/"
        },
        "id": "MYLzdiWRZ2Hl",
        "outputId": "a218e259-48fa-4b69-d833-3513f044da0f"
      },
      "outputs": [
        {
          "output_type": "execute_result",
          "data": {
            "text/plain": [
              "final_label\n",
              "food        279\n",
              "other       139\n",
              "service     120\n",
              "ambiance     46\n",
              "Name: count, dtype: int64"
            ]
          },
          "metadata": {},
          "execution_count": 26
        }
      ],
      "source": [
        "# check disytribution of labels\n",
        "train_data['final_label'].value_counts()"
      ]
    },
    {
      "cell_type": "markdown",
      "metadata": {
        "id": "_4fujYvhv1Rt"
      },
      "source": [
        "## <Font color = 'dodgerblue'>**Load Pipeline**"
      ]
    },
    {
      "cell_type": "code",
      "execution_count": null,
      "metadata": {
        "colab": {
          "base_uri": "https://localhost:8080/"
        },
        "execution": {
          "iopub.execute_input": "2022-11-27T12:01:44.481793Z",
          "iopub.status.busy": "2022-11-27T12:01:44.481554Z",
          "iopub.status.idle": "2022-11-27T12:01:44.486406Z",
          "shell.execute_reply": "2022-11-27T12:01:44.485776Z",
          "shell.execute_reply.started": "2022-11-27T12:01:44.481768Z"
        },
        "id": "cbd916e4-6587-46c8-93c4-f2f00edf7748",
        "outputId": "d5de9652-d4d7-4834-dbf7-59290ebad3e0",
        "tags": []
      },
      "outputs": [
        {
          "output_type": "stream",
          "name": "stderr",
          "text": [
            "No model was supplied, defaulted to facebook/bart-large-mnli and revision c626438 (https://huggingface.co/facebook/bart-large-mnli).\n",
            "Using a pipeline without specifying a model name and revision in production is not recommended.\n"
          ]
        }
      ],
      "source": [
        "# Load zero shot classification pipleine - do not pass any model. We will use the default model\n",
        "# use pytorch as framework and move the pipleine to GPU\n",
        "# syntax : zero_shot_classifier = pipeline(name-of-pipeline, framework=, device =)\n",
        "\n",
        "zero_shot_classifier = pipeline(\"zero-shot-classification\",\n",
        "                      framework='pt',\n",
        "                     device = 0)"
      ]
    },
    {
      "cell_type": "markdown",
      "source": [
        "## <Font color = 'dodgerblue'>**Task1 : Base experiment**.\n",
        "\n",
        "- **In this Task you will pass all the four labels to the classifier.**"
      ],
      "metadata": {
        "id": "xuHnPBf8pSjA"
      }
    },
    {
      "cell_type": "markdown",
      "metadata": {
        "id": "wCZK8GT_wHwa"
      },
      "source": [
        "### <Font color = 'dodgerblue'>**Create a list of reviews**"
      ]
    },
    {
      "cell_type": "code",
      "execution_count": null,
      "metadata": {
        "id": "3_BlvcFmvzA4"
      },
      "outputs": [],
      "source": [
        "# create a list of reviews (hint use column.tolist() to convert pandas series to python list)\n",
        "texts_train = train_data['text'].tolist()\n",
        "# list of labels\n",
        "candidate_labels = ['food', 'service', 'ambiance', 'other']"
      ]
    },
    {
      "cell_type": "markdown",
      "metadata": {
        "id": "HfoUsKpPwTtb"
      },
      "source": [
        "### <Font color = 'dodgerblue'>**Get Probailities**\n",
        "\n",
        "Pass the list of text and labels you created in the previous step to the classifier to get predictions.\n",
        "\n",
        "The syntax is : **```probs = zero_shot_classifier(sequences= , candidate_labels =  )```**"
      ]
    },
    {
      "cell_type": "code",
      "execution_count": null,
      "metadata": {
        "execution": {
          "iopub.execute_input": "2022-11-27T12:01:45.594721Z",
          "iopub.status.busy": "2022-11-27T12:01:45.594481Z",
          "iopub.status.idle": "2022-11-27T12:01:50.801737Z",
          "shell.execute_reply": "2022-11-27T12:01:50.801068Z",
          "shell.execute_reply.started": "2022-11-27T12:01:45.594695Z"
        },
        "id": "95e85b0a-81ac-4b04-af9f-11ee9cfe9cf1",
        "tags": []
      },
      "outputs": [],
      "source": [
        "probs = zero_shot_classifier(sequences=texts_train, candidate_labels = candidate_labels )"
      ]
    },
    {
      "cell_type": "code",
      "source": [
        "probs[0: 3]"
      ],
      "metadata": {
        "id": "kbiET8QIHprI",
        "colab": {
          "base_uri": "https://localhost:8080/"
        },
        "outputId": "db69e81f-cb2a-4a7d-fbe0-523813278ac5"
      },
      "execution_count": null,
      "outputs": [
        {
          "output_type": "execute_result",
          "data": {
            "text/plain": [
              "[{'sequence': \"If you love unagi (eel) on rice, you'll absolutely enjoy their version.\",\n",
              "  'labels': ['food', 'ambiance', 'service', 'other'],\n",
              "  'scores': [0.9423722624778748,\n",
              "   0.023495109751820564,\n",
              "   0.021316828206181526,\n",
              "   0.012815755791962147]},\n",
              " {'sequence': 'But it is definitely worth the wait.',\n",
              "  'labels': ['other', 'service', 'ambiance', 'food'],\n",
              "  'scores': [0.4905833303928375,\n",
              "   0.2534787952899933,\n",
              "   0.20231029391288757,\n",
              "   0.053627561777830124]},\n",
              " {'sequence': 'Sometimes get the Pho w/ rare beef which is decent.',\n",
              "  'labels': ['food', 'other', 'service', 'ambiance'],\n",
              "  'scores': [0.7790170907974243,\n",
              "   0.10868176817893982,\n",
              "   0.08358313888311386,\n",
              "   0.02871805801987648]}]"
            ]
          },
          "metadata": {},
          "execution_count": 30
        }
      ]
    },
    {
      "cell_type": "markdown",
      "source": [
        "### <Font color = 'dodgerblue'>**Get Predictions**\n",
        "- The output from the classifier will give you the probbaility for each label\n",
        "- The label with the highest probbaility should be your prediction\n",
        "- You might need to use more than one line of the code to complete this step"
      ],
      "metadata": {
        "id": "dPph80xNupUO"
      }
    },
    {
      "cell_type": "code",
      "source": [
        "predictions = [item['labels'] [0] for item in probs]"
      ],
      "metadata": {
        "id": "MHKrANtowpQ9"
      },
      "execution_count": null,
      "outputs": []
    },
    {
      "cell_type": "code",
      "source": [
        "# get first five preeictions\n",
        "predictions[0:5]"
      ],
      "metadata": {
        "colab": {
          "base_uri": "https://localhost:8080/"
        },
        "id": "MZfPYzoKHf7U",
        "outputId": "e40f6f3f-6166-45fd-8f24-d87c5d74a3d9"
      },
      "execution_count": null,
      "outputs": [
        {
          "output_type": "execute_result",
          "data": {
            "text/plain": [
              "['food', 'other', 'food', 'food', 'food']"
            ]
          },
          "metadata": {},
          "execution_count": 33
        }
      ]
    },
    {
      "cell_type": "markdown",
      "source": [
        "### <Font color = 'dodgerblue'>**Accuracy**\n",
        "- You might need to use more than one line of the code to complete this step\n",
        "- Now you have the actual Label and predicted Label for each sentence.\n",
        "- Calculate the overall acacuracy (Hint : you can use accuracy_score form from sklearn - `from sklearn.metrics import accuracy_score`\n"
      ],
      "metadata": {
        "id": "We6JZ9fXuXUz"
      }
    },
    {
      "cell_type": "code",
      "source": [
        "accuracy = 100 *accuracy_score(train_data['final_label'].values, predictions) # CODE HERE\n",
        "accuracy"
      ],
      "metadata": {
        "id": "dy9P6LSvSJbj",
        "colab": {
          "base_uri": "https://localhost:8080/"
        },
        "outputId": "76490a7a-2c8a-4b04-ea66-5a49da0e101f"
      },
      "execution_count": null,
      "outputs": [
        {
          "output_type": "execute_result",
          "data": {
            "text/plain": [
              "66.6095890410959"
            ]
          },
          "metadata": {},
          "execution_count": 34
        }
      ]
    },
    {
      "cell_type": "markdown",
      "source": [
        "### <Font color = 'dodgerblue'>**Classification Report**\n",
        "- Print the classification report\n",
        "- HINT- `from sklearn.metrics import classification_report`"
      ],
      "metadata": {
        "id": "QYaQqsw8v8ln"
      }
    },
    {
      "cell_type": "code",
      "execution_count": null,
      "metadata": {
        "id": "Q7MFdMnBxLFM",
        "colab": {
          "base_uri": "https://localhost:8080/"
        },
        "outputId": "78fa5a54-fa75-402c-c97f-aa67a414205a"
      },
      "outputs": [
        {
          "output_type": "stream",
          "name": "stdout",
          "text": [
            "              precision    recall  f1-score   support\n",
            "\n",
            "    ambiance       0.39      0.33      0.36        46\n",
            "        food       0.76      0.84      0.80       279\n",
            "       other       0.52      0.54      0.53       139\n",
            "     service       0.69      0.54      0.61       120\n",
            "\n",
            "    accuracy                           0.67       584\n",
            "   macro avg       0.59      0.56      0.57       584\n",
            "weighted avg       0.66      0.67      0.66       584\n",
            "\n"
          ]
        }
      ],
      "source": [
        "# print classification report\n",
        "class_report = classification_report(train_data['final_label'].values, predictions) # CODE HERE\n",
        "print(class_report)"
      ]
    },
    {
      "cell_type": "markdown",
      "source": [
        "###<Font color = 'dodgerblue'>**Conclusion from the classification report** </font>\n",
        "\n",
        "What do you conclude from the classification report? Write your response below:\n",
        "\n",
        "### Insights:\n",
        "\n",
        "1. **Strong Performance in \"Food\":**\n",
        "   The model is particularly effective in identifying the \"food\" category, with the highest precision, recall, and F1-score.\n",
        "\n",
        "2. **Weak Performance in \"Ambiance\":**\n",
        "   The \"ambiance\" category shows the weakest performance, with the lowest scores in all three metrics.\n",
        "\n",
        "3. **Moderate Performance in \"Other\" and \"Service\":**\n",
        "   The model has moderate success in classifying the \"other\" and \"service\" categories, with F1-scores of 0.53 and 0.61, respectively.\n",
        "\n",
        "\n",
        "### Conclusions:\n",
        "\n",
        "The overall perfromnace is good but it can be improved. The model has weakest performance for ambiance. Ambiance often relates to more abstract and nuanced aspects of a restaurant, and it is not surprising that pre-trained model is strugglin in this category.\n",
        "\n",
        "**Finally, the use of the default hypothesis template, \"This example is {}\" may lead to bad performance**.  We will change the default hypothesis and see if this helps."
      ],
      "metadata": {
        "id": "z7mkN2E1RgY8"
      }
    },
    {
      "cell_type": "markdown",
      "source": [
        "### <Font color = 'dodgerblue'>**Confusion Matrix**\n",
        "- You might need to use more than one line of the code to complete this step\n",
        "- Print confusionm matrix\n",
        "- Hint:use ConfusionMatrixDisplay.from_predictions from sklearn"
      ],
      "metadata": {
        "id": "vv9btE81O6an"
      }
    },
    {
      "cell_type": "code",
      "source": [
        "\n",
        "label_index = {'food':0, 'service':1, 'ambiance':2, 'other':3}\n",
        "y_predicted =   np.array([label_index[label] for label in predictions])\n",
        "y_true = np.array([label_index[label] for label in train_data['final_label'].values])"
      ],
      "metadata": {
        "id": "bw9M-jHlToSN"
      },
      "execution_count": null,
      "outputs": []
    },
    {
      "cell_type": "code",
      "source": [
        "confusion_matrix(y_true, y_predicted)"
      ],
      "metadata": {
        "colab": {
          "base_uri": "https://localhost:8080/"
        },
        "id": "MDxYctURIf9p",
        "outputId": "cb8a8cad-ddba-414c-c773-b0d3c49afe7b"
      },
      "execution_count": null,
      "outputs": [
        {
          "output_type": "execute_result",
          "data": {
            "text/plain": [
              "array([[234,   6,   3,  36],\n",
              "       [ 35,  65,   4,  16],\n",
              "       [ 13,   1,  15,  17],\n",
              "       [ 26,  22,  16,  75]])"
            ]
          },
          "metadata": {},
          "execution_count": 37
        }
      ]
    },
    {
      "cell_type": "code",
      "source": [
        "fig, ax = plt.subplots(figsize=(5, 4))\n",
        "ConfusionMatrixDisplay.from_predictions(\n",
        "    y_true=y_true,\n",
        "    y_pred=y_predicted,\n",
        "    ax=ax,\n",
        "    normalize=\"true\",\n",
        "    display_labels=['food', 'setrvice', 'ambiance', 'other'],\n",
        ")"
      ],
      "metadata": {
        "colab": {
          "base_uri": "https://localhost:8080/",
          "height": 406
        },
        "id": "mMAUCPcsI-wr",
        "outputId": "7dd04b26-ef66-41ab-db40-4b2a7aece7ff"
      },
      "execution_count": null,
      "outputs": [
        {
          "output_type": "execute_result",
          "data": {
            "text/plain": [
              "<sklearn.metrics._plot.confusion_matrix.ConfusionMatrixDisplay at 0x7fb4f4cdad40>"
            ]
          },
          "metadata": {},
          "execution_count": 38
        },
        {
          "output_type": "display_data",
          "data": {
            "text/plain": [
              "<Figure size 500x400 with 2 Axes>"
            ],
            "image/png": "[encoded data removed]"
          },
          "metadata": {}
        }
      ]
    },
    {
      "cell_type": "markdown",
      "source": [
        "###<Font color = 'dodgerblue'>**Conclusions from the Confusion Matrix** </font>\n",
        "\n",
        "What do you conclude from the Confusion Matrix?\n",
        "YOUR RESPONSE HERE\n",
        "\n",
        "Main insights:\n",
        "\n",
        "1. **\"Food\" Category:** Most reviews about food are classified correctly, but there's confusion with \"other,\" possibly indicating unclear distinctions in some cases.\n",
        "\n",
        "2. **\"Service\" Category:** While many \"service\" reviews are identified, there's notable confusion with \"food\" and \"other,\" suggesting that the language used in service reviews might overlap with these categories.\n",
        "\n",
        "3. **\"Ambiance\" Category:** The model struggles with \"ambiance,\" often misclassifying it as \"food\" or \"other.\" This could reflect the ambiguity or subtlety of the language used to describe ambiance in the dataset.\n",
        "\n",
        "4. **\"Other\" Category:** The \"other\" category shows reasonable accuracy but has confusion across all categories, indicating a lack of clear definition or potential overlap with other categories.\n",
        "\n"
      ],
      "metadata": {
        "id": "Ejw_5vPtzOS1"
      }
    },
    {
      "cell_type": "markdown",
      "source": [
        "## <Font color = 'dodgerblue'>**Task2 : Change hypothesis template**. </font>\n",
        "\n",
        "In this experiment, we are exploring the impact of changing the hypothesis template in a zero-shot classification model. The default template used in the pipeline is **\"This example is {}\"**. In the experiment the default template is being replaced with a domain-specific template to classify restaurant reviews into categories like food, service, ambiance, and other.\n",
        "\n",
        "### Steps:\n",
        "\n",
        "1. **Modify Hypothesis Template:** Adjust the template to better fit the context of restaurant reviews.\n",
        "2. **Evaluate Model:** Apply the modified template and report accuracy, a classification report, and confusion matrix.\n",
        "3. **Compare Results:** Analyze the findings in comparison to the previous experiment using the default template.\n",
        "\n",
        "### Conclusion:\n",
        "\n",
        "Changing the hypothesis template may lead to variations in model performance, possibly improving accuracy in certain categories. The comparison between the experiments can reveal insights into how the model interprets premises differently with various templates, helping to tailor the model to specific tasks or domains."
      ],
      "metadata": {
        "id": "Fk5oM0qQ0lqQ"
      }
    },
    {
      "cell_type": "markdown",
      "metadata": {
        "id": "eniliCyO23Qr"
      },
      "source": [
        "### <Font color = 'dodgerblue'>**Create a list of reviews**"
      ]
    },
    {
      "cell_type": "code",
      "execution_count": null,
      "metadata": {
        "id": "fZB1sjVw23Qr"
      },
      "outputs": [],
      "source": [
        "# create a list of reviews (hint use column.tolist() to convert pandas series to python list)\n",
        "texts_train = train_data['text'].tolist() # CODE here\n",
        "\n",
        "# list of labels\n",
        "candidate_labels = ['food', 'service', 'ambiance', 'other']"
      ]
    },
    {
      "cell_type": "markdown",
      "metadata": {
        "id": "sE1emxDW23Qr"
      },
      "source": [
        "### <Font color = 'dodgerblue'>**Get Probbailities**\n",
        "\n",
        "In the previous experiment, you only passed sequences and candiadte labels. Since you did not pass any hypothesis template, the classifier used the default template \"This example is {}.\" Now, in this experiment, you will introduce a custom hypothesis template to replace the default. The suggested custom template is \"This review is related to the restaurant's {}.\" By specifying a template more aligned with the context of restaurant reviews, you may influence how the classifier interprets the relationship between the premise and each candidate label. Feel free to explore other custom templates that may be suitable for this task, and compare how these changes affect the classification performance.\n",
        "\n",
        "The syntax is : **```zero_shot_classifier(sequences= , candidate_labels = , hypothesis_template =   )```**"
      ]
    },
    {
      "cell_type": "code",
      "execution_count": null,
      "metadata": {
        "execution": {
          "iopub.execute_input": "2022-11-27T12:01:45.594721Z",
          "iopub.status.busy": "2022-11-27T12:01:45.594481Z",
          "iopub.status.idle": "2022-11-27T12:01:50.801737Z",
          "shell.execute_reply": "2022-11-27T12:01:50.801068Z",
          "shell.execute_reply.started": "2022-11-27T12:01:45.594695Z"
        },
        "tags": [],
        "id": "aEV28Et723Qr"
      },
      "outputs": [],
      "source": [
        "# pass the sequences, candiadte labels and hypothesis_template to the classifier\n",
        "template = \"This review is related to the restaurant's {}.\"\n",
        "probs = zero_shot_classifier(sequences=texts_train,\n",
        "                             candidate_labels = candidate_labels ,\n",
        "                             hypothesis_template =template)"
      ]
    },
    {
      "cell_type": "code",
      "source": [
        "probs[0:3]"
      ],
      "metadata": {
        "colab": {
          "base_uri": "https://localhost:8080/"
        },
        "id": "rajMDD2ZK6ms",
        "outputId": "1f96244f-a44e-49ce-a979-14aa71e1f747"
      },
      "execution_count": null,
      "outputs": [
        {
          "output_type": "execute_result",
          "data": {
            "text/plain": [
              "[{'sequence': \"If you love unagi (eel) on rice, you'll absolutely enjoy their version.\",\n",
              "  'labels': ['food', 'other', 'service', 'ambiance'],\n",
              "  'scores': [0.8286234140396118,\n",
              "   0.1660204827785492,\n",
              "   0.002787330187857151,\n",
              "   0.0025688130408525467]},\n",
              " {'sequence': 'But it is definitely worth the wait.',\n",
              "  'labels': ['other', 'food', 'service', 'ambiance'],\n",
              "  'scores': [0.35622066259384155,\n",
              "   0.3078744113445282,\n",
              "   0.24831970036029816,\n",
              "   0.08758516609668732]},\n",
              " {'sequence': 'Sometimes get the Pho w/ rare beef which is decent.',\n",
              "  'labels': ['food', 'other', 'ambiance', 'service'],\n",
              "  'scores': [0.8090680241584778,\n",
              "   0.1831628978252411,\n",
              "   0.0041746641509234905,\n",
              "   0.003594424109905958]}]"
            ]
          },
          "metadata": {},
          "execution_count": 51
        }
      ]
    },
    {
      "cell_type": "markdown",
      "source": [
        "### <Font color = 'dodgerblue'>**Get Predictions**\n",
        "- The output from the classifier will give you the probbaility for each label\n",
        "- The label with the highest probbaility should be your prediction\n",
        "- You might need to use more than one line of the code to complete this step"
      ],
      "metadata": {
        "id": "NXB_v7XB23Qs"
      }
    },
    {
      "cell_type": "code",
      "source": [
        "predictions = [item['labels'] [0] for item in probs]"
      ],
      "metadata": {
        "id": "zIRClFhD23Qs"
      },
      "execution_count": null,
      "outputs": []
    },
    {
      "cell_type": "code",
      "source": [
        "# get first five preeictions\n",
        "predictions[0:5]"
      ],
      "metadata": {
        "colab": {
          "base_uri": "https://localhost:8080/"
        },
        "id": "2H1y8kl1s9J8",
        "outputId": "1b173809-0edf-4447-a52c-09fbb1a15bdd"
      },
      "execution_count": null,
      "outputs": [
        {
          "output_type": "execute_result",
          "data": {
            "text/plain": [
              "['food', 'other', 'food', 'food', 'other']"
            ]
          },
          "metadata": {},
          "execution_count": 53
        }
      ]
    },
    {
      "cell_type": "markdown",
      "source": [
        "### <Font color = 'dodgerblue'>**Accuracy**\n",
        "- You might need to use more than one line of the code to complete this step\n",
        "- Now you have the actual Label and predicted Label for each sentence.\n",
        "- Calculate the overall acacuracy (Hint : you can use accuracy_score form from sklearn - `from sklearn.metrics import accuracy_score`\n"
      ],
      "metadata": {
        "id": "R7n4vKFt23Qs"
      }
    },
    {
      "cell_type": "code",
      "source": [
        "accuracy = 100 *accuracy_score(train_data['final_label'].values, predictions) # CODE HERE\n",
        "accuracy"
      ],
      "metadata": {
        "id": "pDSRjHgStHre",
        "colab": {
          "base_uri": "https://localhost:8080/"
        },
        "outputId": "02b66dc0-196c-4a14-c716-89bc41a69d74"
      },
      "execution_count": null,
      "outputs": [
        {
          "output_type": "execute_result",
          "data": {
            "text/plain": [
              "78.76712328767124"
            ]
          },
          "metadata": {},
          "execution_count": 54
        }
      ]
    },
    {
      "cell_type": "markdown",
      "source": [
        "### <Font color = 'dodgerblue'>**Classification Report**\n",
        "- Print the classification report\n",
        "- HINT- `from sklearn.metrics import classification_report`"
      ],
      "metadata": {
        "id": "YKEC44ii23Qs"
      }
    },
    {
      "cell_type": "code",
      "execution_count": null,
      "metadata": {
        "id": "SPB653ZutXyw",
        "colab": {
          "base_uri": "https://localhost:8080/"
        },
        "outputId": "1c33d5b6-37be-40cf-fe89-6e797e6229a9"
      },
      "outputs": [
        {
          "output_type": "stream",
          "name": "stdout",
          "text": [
            "              precision    recall  f1-score   support\n",
            "\n",
            "    ambiance       0.90      0.41      0.57        46\n",
            "        food       0.88      0.84      0.86       279\n",
            "       other       0.60      0.91      0.72       139\n",
            "     service       0.93      0.68      0.78       120\n",
            "\n",
            "    accuracy                           0.79       584\n",
            "   macro avg       0.83      0.71      0.73       584\n",
            "weighted avg       0.83      0.79      0.79       584\n",
            "\n"
          ]
        }
      ],
      "source": [
        "# print classification report\n",
        "class_report = classification_report(train_data['final_label'].values, predictions)\n",
        "print(class_report)"
      ]
    },
    {
      "cell_type": "markdown",
      "source": [
        "### <Font color = 'dodgerblue'>**Compare the classification report** </font>\n",
        "\n",
        "Compare the classification report with previous experiment and provide your conclusion.\n",
        "\n",
        "YOUR RESPONSE HERE\n",
        "\n",
        "### Comparison:\n",
        "\n",
        "1. **Ambiance**: The precision has notably increased from 0.39 to 0.90, while the recall is still relatively low, though improved from 0.33 to 0.41.\n",
        "2. **Food**: Precision has improved from 0.76 to 0.88, and recall is fairly consistent, showing a slight decrease from 0.84 to 0.84.\n",
        "3. **Other**: A remarkable improvement in both precision (0.52 to 0.60) and recall (0.54 to 0.91), demonstrating better classification in this category.\n",
        "4. **Service**: Precision improved from 0.69 to 0.93, and recall also increased from 0.54 to 0.68.\n",
        "5. **Overall Accuracy**: The overall accuracy has increased from 0.67 to 0.79, reflecting the positive effect of the custom template.\n",
        "\n",
        "### Conclusion:\n",
        "\n",
        "The change in the hypothesis template from the default \"This example is {}\" to the more specific \"This review is related to the restaurant's {}\" appears to have substantially improved the classification results. Most categories have seen increases in both precision and recall, particularly in the 'other' and 'service' labels.\n",
        "\n",
        "This experiment underscores the importance of crafting a hypothesis template that aligns closely with the context of the data. A carefully chosen template can significantly enhance the model's understanding of the nuances in the data, leading to more accurate and precise classifications.\n",
        "\n",
        "The comparison between the two experiments indicates that hypothesis templates are not merely syntactic constructs but play a critical role in guiding the model's reasoning process. They can be fine-tuned and adapted to improve performance on specific tasks or domains, making them a valuable tool in zero-shot learning."
      ],
      "metadata": {
        "id": "9gz7hRSB23Qs"
      }
    },
    {
      "cell_type": "markdown",
      "source": [
        "### <Font color = 'dodgerblue'>**Confusion Matrix**\n",
        "- You might need to use more than one line of the code to complete this step\n",
        "- Print confusionm matrix\n",
        "- Hint:use ConfusionMatrixDisplay.from_predictions from sklearn"
      ],
      "metadata": {
        "id": "HGU0AEUu23Qs"
      }
    },
    {
      "cell_type": "code",
      "source": [
        "\n",
        "label_index = {'food':0, 'service':1, 'ambiance':2, 'other':3}\n",
        "y_predicted =   np.array([label_index[label] for label in predictions])\n",
        "y_true = np.array([label_index[label] for label in train_data['final_label'].values])"
      ],
      "metadata": {
        "id": "bhjumxPmvF9c"
      },
      "execution_count": null,
      "outputs": []
    },
    {
      "cell_type": "code",
      "source": [
        "confusion_matrix(y_true, y_predicted)"
      ],
      "metadata": {
        "colab": {
          "base_uri": "https://localhost:8080/"
        },
        "outputId": "91624c9d-ae78-4319-afa8-33e356e917a3",
        "id": "x6EYSS1XvF9c"
      },
      "execution_count": null,
      "outputs": [
        {
          "output_type": "execute_result",
          "data": {
            "text/plain": [
              "array([[234,   2,   0,  43],\n",
              "       [ 17,  81,   2,  20],\n",
              "       [  5,   1,  19,  21],\n",
              "       [ 10,   3,   0, 126]])"
            ]
          },
          "metadata": {},
          "execution_count": 40
        }
      ]
    },
    {
      "cell_type": "code",
      "source": [
        "fig, ax = plt.subplots(figsize=(5, 4))\n",
        "ConfusionMatrixDisplay.from_predictions(\n",
        "    y_true=y_true,\n",
        "    y_pred=y_predicted,\n",
        "    ax=ax,\n",
        "    normalize=\"true\",\n",
        "    display_labels=['food', 'setrvice', 'ambiance', 'other'],\n",
        ")"
      ],
      "metadata": {
        "colab": {
          "base_uri": "https://localhost:8080/",
          "height": 406
        },
        "id": "nkgmI1SaMBkB",
        "outputId": "8cdeb68a-dc57-4f08-f0cb-cc57f638a212"
      },
      "execution_count": null,
      "outputs": [
        {
          "output_type": "execute_result",
          "data": {
            "text/plain": [
              "<sklearn.metrics._plot.confusion_matrix.ConfusionMatrixDisplay at 0x7f3bcbdf5000>"
            ]
          },
          "metadata": {},
          "execution_count": 41
        },
        {
          "output_type": "display_data",
          "data": {
            "text/plain": [
              "<Figure size 500x400 with 2 Axes>"
            ],
            "image/png": "[encoded data removed]"
          },
          "metadata": {}
        }
      ]
    },
    {
      "cell_type": "markdown",
      "source": [
        "###<Font color = 'dodgerblue'>**Conclusions from the Confusion Matrix** </font>\n",
        "\n",
        "What do you conclude from the Confusion Matrix (compare with previous experiment)?\n",
        "\n",
        "YOUR RESPONSE HERE\n",
        "\n",
        "The updated confusion matrix reveals an overall improvement in classification performance across all categories, particularly for the 'other' label. The substantial increase in recall for 'other' indicates that more true positives were identified. However, the lower precision for the 'other' category suggests that many instances from other categories were still classified as 'others.' This indicates that while the new hypothesis template enhanced the handling of 'other,' there is still room for refinement in distinguishing 'other' from the specific categories of 'ambiance,' 'food,' and 'service.' Further fine-tuning of the hypothesis template may lead to even more accurate classification, especially in the handling of the 'other' category."
      ],
      "metadata": {
        "id": "s2mVAmm-23Qs"
      }
    },
    {
      "cell_type": "markdown",
      "source": [
        "## <Font color = 'dodgerblue'>**Task3 : Use threshold probbaility to classify Others**.\n",
        "\n",
        "\n",
        "\n",
        "\n",
        "In this next experiment, you will explore a nuanced approach to classification by **only considering the labels 'food', 'service', and 'ambiance'**. This is a departure from the previous experiments, where you also included 'other' as a label, and it brings some key distinctions:\n",
        "\n",
        "Unlike traditional classification, where the probabilities across all labels sum to one, in this experiment, you'll assess the probabilities for just the three given labels.\n",
        "\n",
        "By not including 'other' as a label, you are essentially allowing the model to classify instances into 'other' if none of the given labels strongly apply. If the maximum probability across 'food', 'service', and 'ambiance' is less than the threshold, the instance is classified as 'other'.\n",
        "\n",
        "This approach not only recognizes that some instances may not fit neatly into one of the specific categories but also aims to refine the handling of those instances. It encourages a more flexible and discerning classification, possibly reducing misclassification.\n",
        "\n",
        "The task will allow you to explore how this method of classification, guided by a threshold, can impact the model's performance. It offers an insightful comparison with the previous approaches and underlines the significance of understanding the nature of your data, the relationships between categories, and selecting an appropriate classification strategy accordingly."
      ],
      "metadata": {
        "id": "t2n8UTav3O8L"
      }
    },
    {
      "cell_type": "markdown",
      "metadata": {
        "id": "DvH5d67U3WVa"
      },
      "source": [
        "### <Font color = 'dodgerblue'>**Create a list of reviews**"
      ]
    },
    {
      "cell_type": "code",
      "execution_count": null,
      "metadata": {
        "id": "dKoj2rXB3WVa"
      },
      "outputs": [],
      "source": [
        "# create a list of reviews (hint use column.tolist() to convert pandas series to python list)\n",
        "texts_train = train_data['text'].tolist() # CODE HERE\n",
        "\n",
        "# list of labels\n",
        "candidate_labels = ['food', 'service', 'ambiance'] #  MAKE SURE YOU DO NOT PASS 'other' in candidate labels"
      ]
    },
    {
      "cell_type": "markdown",
      "metadata": {
        "id": "_94oeSQB3WVb"
      },
      "source": [
        "### <Font color = 'dodgerblue'>**Get Probbailities**\n",
        "\n",
        "Pass the list of text and labels you craeted in the previous step to the classifier to get predictions."
      ]
    },
    {
      "cell_type": "code",
      "execution_count": null,
      "metadata": {
        "execution": {
          "iopub.execute_input": "2022-11-27T12:01:45.594721Z",
          "iopub.status.busy": "2022-11-27T12:01:45.594481Z",
          "iopub.status.idle": "2022-11-27T12:01:50.801737Z",
          "shell.execute_reply": "2022-11-27T12:01:50.801068Z",
          "shell.execute_reply.started": "2022-11-27T12:01:45.594695Z"
        },
        "tags": [],
        "id": "KCkWBpr43WVb"
      },
      "outputs": [],
      "source": [
        "# pass the sequences, candiadte labels and hypothesis_template to the classifier\n",
        "\n",
        "template = \"This review is related to the restaurant's {}.\"\n",
        "probs = zero_shot_classifier(sequences=texts_train,\n",
        "                             candidate_labels = candidate_labels ,\n",
        "                             hypothesis_template =template) # CODE HERE"
      ]
    },
    {
      "cell_type": "code",
      "source": [
        "probs[0: 5]"
      ],
      "metadata": {
        "colab": {
          "base_uri": "https://localhost:8080/"
        },
        "id": "J4ifIOjE1tpu",
        "outputId": "e9b3a35c-c6c9-4bb3-e4a1-9aa6b2ae5861"
      },
      "execution_count": null,
      "outputs": [
        {
          "output_type": "execute_result",
          "data": {
            "text/plain": [
              "[{'sequence': \"If you love unagi (eel) on rice, you'll absolutely enjoy their version.\",\n",
              "  'labels': ['food', 'service', 'ambiance'],\n",
              "  'scores': [0.9935776591300964,\n",
              "   0.0033422044944018126,\n",
              "   0.0030801871325820684]},\n",
              " {'sequence': 'But it is definitely worth the wait.',\n",
              "  'labels': ['food', 'service', 'ambiance'],\n",
              "  'scores': [0.4782298803329468, 0.38572168350219727, 0.13604843616485596]},\n",
              " {'sequence': 'Sometimes get the Pho w/ rare beef which is decent.',\n",
              "  'labels': ['food', 'ambiance', 'service'],\n",
              "  'scores': [0.9904888272285461, 0.00511078629642725, 0.004400411155074835]},\n",
              " {'sequence': 'Other items on this menu was a crab soup, duck and clams congee, 2 desserts (one chinese and one western) and free appetizers.',\n",
              "  'labels': ['food', 'service', 'ambiance'],\n",
              "  'scores': [0.9874481558799744, 0.006339206825941801, 0.006212593987584114]},\n",
              " {'sequence': 'I visited the restaurant for lunch and arrived there just after 12.30pm on a Sunday.',\n",
              "  'labels': ['food', 'ambiance', 'service'],\n",
              "  'scores': [0.7476780414581299, 0.13911721110343933, 0.11320468038320541]}]"
            ]
          },
          "metadata": {},
          "execution_count": 44
        }
      ]
    },
    {
      "cell_type": "markdown",
      "source": [
        "### <Font color = 'dodgerblue'>**Get Predictions** </font>\n",
        "\n",
        "In this experiment , you'll be considering three specific categories: 'food', 'service', 'ambiance', and classify any instance that doesn't fit these categories as 'other'. To make this decision, you will use a concept called a threshold.\n",
        "\n",
        "#### Understanding the Threshold Concept:\n",
        "The threshold is a cutoff value that helps determine the class labels based on predicted probabilities. Here's how it works:\n",
        "\n",
        "Imagine your model predicts the following probabilities for a review:\n",
        "- 'food': 0.7\n",
        "- 'service': 0.2\n",
        "- 'ambiance': 0.1\n",
        "\n",
        "With a threshold of 0.5, you check whether the highest probability (0.7 for 'food') is greater than this threshold. Since 0.7 > 0.5, the review is classified as 'food'. If the highest probability dees not surpass the threshold, you classify the review as 'other'. By adjusting the threshold, you control how confident the model must be to assign a particular label.\n",
        "\n",
        "**In this experiment, you will use a theshold of 0.8**"
      ],
      "metadata": {
        "id": "qLZ9WP3j3WVb"
      }
    },
    {
      "cell_type": "code",
      "source": [
        "threshold = 0.8"
      ],
      "metadata": {
        "id": "_z6Gdb7_zQg9"
      },
      "execution_count": null,
      "outputs": []
    },
    {
      "cell_type": "code",
      "source": [
        "predictions = [item['labels'][0] if item['scores'][0] > threshold else 'other' for item in probs] # CODE HERE\n"
      ],
      "metadata": {
        "id": "AyAK7DRjzRB0"
      },
      "execution_count": null,
      "outputs": []
    },
    {
      "cell_type": "code",
      "source": [
        "# get first five predictions\n",
        "predictions[0:5]"
      ],
      "metadata": {
        "colab": {
          "base_uri": "https://localhost:8080/"
        },
        "outputId": "acee9953-36eb-4efa-9ab0-36de52835ffa",
        "id": "LjdRb9ZSzRB0"
      },
      "execution_count": null,
      "outputs": [
        {
          "output_type": "execute_result",
          "data": {
            "text/plain": [
              "['food', 'other', 'food', 'food', 'other']"
            ]
          },
          "metadata": {},
          "execution_count": 47
        }
      ]
    },
    {
      "cell_type": "markdown",
      "source": [
        "### <Font color = 'dodgerblue'>**Accuracy**\n",
        "- You might need to use more than one line of the code to complete this step\n",
        "- Now you have the True Label and predicted Label for each sentence.\n",
        "- Calculate the overall acacuracy (Hint : you can use accuracy_score form from sklearn - `from sklearn.metrics import accuracy_score`\n"
      ],
      "metadata": {
        "id": "ncT2Qh7R3WVb"
      }
    },
    {
      "cell_type": "code",
      "source": [
        "accuracy = 100 *accuracy_score(train_data['final_label'].values, predictions) # CODE HERE\n",
        "accuracy"
      ],
      "metadata": {
        "id": "myixU_Ky6OIl",
        "colab": {
          "base_uri": "https://localhost:8080/"
        },
        "outputId": "55bcb142-9163-4a90-c832-2bbb7f04ec99"
      },
      "execution_count": null,
      "outputs": [
        {
          "output_type": "execute_result",
          "data": {
            "text/plain": [
              "76.02739726027397"
            ]
          },
          "metadata": {},
          "execution_count": 48
        }
      ]
    },
    {
      "cell_type": "markdown",
      "source": [
        "**The overall accurtacy has decreased. This might be the result of chosen threshold**"
      ],
      "metadata": {
        "id": "Wa-yI85Y4rlj"
      }
    },
    {
      "cell_type": "markdown",
      "source": [
        "### <Font color = 'dodgerblue'>**Classification Report**\n",
        "- Print the classification report\n",
        "- HINT- `from sklearn.metrics import classification_report`"
      ],
      "metadata": {
        "id": "AyzScDOh3WVb"
      }
    },
    {
      "cell_type": "code",
      "execution_count": null,
      "metadata": {
        "id": "HnkXaUZP5qp5",
        "colab": {
          "base_uri": "https://localhost:8080/"
        },
        "outputId": "190b3645-99bf-4900-da76-ab1ad5c9d5c6"
      },
      "outputs": [
        {
          "output_type": "stream",
          "name": "stdout",
          "text": [
            "              precision    recall  f1-score   support\n",
            "\n",
            "    ambiance       0.95      0.41      0.58        46\n",
            "        food       0.91      0.85      0.88       279\n",
            "       other       0.53      0.88      0.66       139\n",
            "     service       0.93      0.53      0.68       120\n",
            "\n",
            "    accuracy                           0.76       584\n",
            "   macro avg       0.83      0.67      0.70       584\n",
            "weighted avg       0.83      0.76      0.76       584\n",
            "\n"
          ]
        }
      ],
      "source": [
        "# print classification report\n",
        "class_report = classification_report(train_data['final_label'].values, predictions) # CODE HERE\n",
        "print(class_report)"
      ]
    },
    {
      "cell_type": "markdown",
      "source": [
        "### <Font color = 'dodgerblue'>**Compare the classification report** </font>\n",
        "\n",
        "Compare the classification report with previous experiment and provide your conclusion.\n",
        "\n",
        "YOUR RESPONSE HERE\n",
        "\n",
        "### Precision for Main Categories:\n",
        "- **With Threshold**: As the threshold is increased, the precision for the main categories ('ambiance', 'food', 'service') increases. This means that the model becomes more confident in assigning these labels, but only when it is highly certain.\n",
        "- **Without Threshold**: Without setting a specific threshold, the precision may be slightly lower for these categories.\n",
        "\n",
        "### Overall Accuracy:\n",
        "- **With Threshold**: Although increasing the threshold enhances precision for the main categories, it doesn't necessarily translate into the best overall accuracy. The stringent threshold may lead to misclassifications in other categories, particularly 'other', where the model may become too conservative in assigning the main labels.\n",
        "\n",
        "### Conclusion:\n",
        "The threshold can be viewed as a hyperparameter that needs careful tuning based on the business objective. If the primary goal is to increase precision for specific categories and reduce false positives, a higher threshold might be beneficial. However, this must be balanced against the potential decrease in overall accuracy and the model's ability to classify instances into other relevant categories.\n",
        "\n",
        "This relationship between the threshold, precision, and overall accuracy highlights the importance of understanding the business context and the specific requirements for the classification task. By considering these factors, one can select an optimal threshold that aligns with the desired outcomes, whether that's maximizing precision for certain labels, achieving high overall accuracy, or finding a balance between these competing objectives."
      ],
      "metadata": {
        "id": "aEkpcLJm3WVb"
      }
    },
    {
      "cell_type": "markdown",
      "source": [
        "### <Font color = 'dodgerblue'>**Confusion Matrix**\n",
        "- You might need to use more than one line of the code to complete this step\n",
        "- Print confusionm matrix\n",
        "- Hint:`from sklearn.metrics import confusion_matrix``"
      ],
      "metadata": {
        "id": "MXuotn5J3WVb"
      }
    },
    {
      "cell_type": "code",
      "source": [
        "\n",
        "label_index = {'food':0, 'service':1, 'ambiance':2, 'other':3}\n",
        "y_predicted =   np.array([label_index[label] for label in predictions])\n",
        "y_true = np.array([label_index[label] for label in train_data['final_label'].values])"
      ],
      "metadata": {
        "id": "0k7-MSek2qPz"
      },
      "execution_count": null,
      "outputs": []
    },
    {
      "cell_type": "code",
      "source": [
        "confusion_matrix(y_true, y_predicted)"
      ],
      "metadata": {
        "colab": {
          "base_uri": "https://localhost:8080/"
        },
        "outputId": "0c32171e-7e81-4010-8d25-41381d121239",
        "id": "2g2m5Xth2qPz"
      },
      "execution_count": null,
      "outputs": [
        {
          "output_type": "execute_result",
          "data": {
            "text/plain": [
              "array([[238,   1,   0,  40],\n",
              "       [ 10,  64,   0,  46],\n",
              "       [  3,   0,  19,  24],\n",
              "       [ 11,   4,   1, 123]])"
            ]
          },
          "metadata": {},
          "execution_count": 51
        }
      ]
    },
    {
      "cell_type": "code",
      "source": [
        "fig, ax = plt.subplots(figsize=(5, 4))\n",
        "ConfusionMatrixDisplay.from_predictions(\n",
        "    y_true=y_true,\n",
        "    y_pred=y_predicted,\n",
        "    ax=ax,\n",
        "    normalize=\"true\",\n",
        "    display_labels=['food', 'setrvice', 'ambiance', 'other'],\n",
        ")"
      ],
      "metadata": {
        "colab": {
          "base_uri": "https://localhost:8080/",
          "height": 406
        },
        "id": "m5jHdeEeQQ8k",
        "outputId": "e03bf44f-1068-4c0b-f6e7-0ca2bfe80b46"
      },
      "execution_count": null,
      "outputs": [
        {
          "output_type": "execute_result",
          "data": {
            "text/plain": [
              "<sklearn.metrics._plot.confusion_matrix.ConfusionMatrixDisplay at 0x7f3bcbcfff10>"
            ]
          },
          "metadata": {},
          "execution_count": 52
        },
        {
          "output_type": "display_data",
          "data": {
            "text/plain": [
              "<Figure size 500x400 with 2 Axes>"
            ],
            "image/png": "[encoded data removed]"
          },
          "metadata": {}
        }
      ]
    },
    {
      "cell_type": "markdown",
      "source": [
        "###<Font color = 'dodgerblue'>**Conclusions from the Confusion Matrix** </font>\n",
        "\n",
        "What do you conclude from the Confusion Matrix (compare with previous experiments?\n",
        "\n",
        "YOUR RESPONSE HERE:\n",
        "\n",
        "The confusion matrices provided give insight into the behavior of the classifier with and without using a higher threshold of 0.8 for the classification task.\n",
        "\n",
        "### With Higher Threshold of 0.8:\n",
        "\n",
        "- True Positives: The main diagonal (from top-left to bottom-right) shows the counts of true positive predictions. The precision for the main categories has increased, evidenced by higher true positives in some categories.\n",
        "- False Negatives/False Positives: There is an increase in false negatives (misclassifications of the main categories) and false positives (incorrectly classifying other categories as one of the main ones). This is evident in the off-diagonal elements.\n",
        "\n",
        "### Conclusion:\n",
        "\n",
        "The decision to set a higher threshold as a hyperparameter depends on the specific trade-offs and business objectives:\n",
        "\n",
        "- **If maximizing precision for main categories is a priority**, a higher threshold may be suitable. It makes the model more confident in its predictions but could lead to an increase in false negatives, where some instances are missed.\n",
        "\n",
        "This highlights the complexity of threshold tuning, where a change in one area (e.g., increasing precision for main categories) can lead to unintended consequences in another area (e.g., increase in false negatives). It underscores the necessity to align the threshold selection with the specific goals of the classification task, taking into account both the desired precision and the need for a balanced approach."
      ],
      "metadata": {
        "id": "Ntk8kWWt3WVb"
      }
    },
    {
      "cell_type": "markdown",
      "source": [
        "## <Font color = 'dodgerblue'>**BONUS TASK (Not Graded) - Function to choose threshold to maximize accuracy**.\n",
        "\n",
        "Let us assume that our business goal is to maximize accuracy.\n",
        "Write a function to determine the optimal threshold (maximum accuracy for classification) and to provide predictions that align with that threshold. You will also keep track of accuracy at each threshold level.\n",
        "\n",
        "#### Pseudo Code:\n",
        "\n",
        "```plaintext\n",
        "1. Function predict_labels(probs, actual_labels, thresholds=[0.5]):\n",
        "2.     Initialize best_threshold = 0\n",
        "3.     Initialize best_accuracy = 0\n",
        "4.     Initialize best_predictions = empty list\n",
        "5.     Initialize accuracy_history = empty list\n",
        "6.     FOR EACH threshold IN thresholds:\n",
        "7.         Initialize predictions = empty list\n",
        "8.         FOR EACH prob IN probs:\n",
        "9.             Extract max_prob as the highest score among the probabilities in prob['scores']\n",
        "10.            IF max_prob > current threshold THEN:\n",
        "11.                Append the corresponding label to predictions (e.g., 'food')\n",
        "12.            ELSE:\n",
        "13.                Append 'other' to predictions\n",
        "14.            END IF\n",
        "15.        END FOR EACH prob\n",
        "16.        Calculate accuracy using accuracy_score comparing predictions with actual_labels\n",
        "17.        Append the accuracy to accuracy_history\n",
        "18.        IF current accuracy > best_accuracy THEN:\n",
        "19.            Update best_threshold, best_accuracy, and best_predictions\n",
        "20.        END IF\n",
        "21.    END FOR EACH threshold\n",
        "22.    Return best_threshold, best_predictions and accuracy_history\n",
        "23. END Function\n",
        "```"
      ],
      "metadata": {
        "id": "_W7JAL203ezi"
      }
    },
    {
      "cell_type": "code",
      "source": [
        "def predict_labels(probs, actual_labels, thresholds=[0.5]):\n",
        "    best_threshold = 0\n",
        "    best_accuracy = 0\n",
        "    best_predictions = []\n",
        "    accuracy_history = []\n",
        "\n",
        "    for threshold in thresholds:\n",
        "        predictions = []\n",
        "        for prob in probs:\n",
        "            max_prob = prob['scores'][0]\n",
        "            if max_prob > threshold:\n",
        "                predictions.append(prob['labels'][0])\n",
        "            else:\n",
        "                predictions.append('other')\n",
        "\n",
        "        accuracy = accuracy_score(actual_labels, predictions)\n",
        "        accuracy_history.append(accuracy)\n",
        "\n",
        "        if accuracy > best_accuracy:\n",
        "            best_accuracy = accuracy\n",
        "            best_threshold = threshold\n",
        "            best_predictions = predictions\n",
        "\n",
        "    return best_threshold, best_predictions, accuracy_history\n"
      ],
      "metadata": {
        "id": "2UJ26tGbygQo"
      },
      "execution_count": null,
      "outputs": []
    },
    {
      "cell_type": "markdown",
      "source": [
        "### <Font color = 'dodgerblue'>**Get best predictions and threshold**\n",
        "Use the function to get best_threshold, best_predictions and accuracy_history"
      ],
      "metadata": {
        "id": "P83x-WBm3ezj"
      }
    },
    {
      "cell_type": "code",
      "source": [
        "thresholds=np.linspace(0.1, 0.95, 18)\n",
        "thresholds"
      ],
      "metadata": {
        "colab": {
          "base_uri": "https://localhost:8080/"
        },
        "id": "83jligUWyyrV",
        "outputId": "b1e8e77a-e00e-4e1b-80f4-6f9daf8b7682"
      },
      "execution_count": null,
      "outputs": [
        {
          "output_type": "execute_result",
          "data": {
            "text/plain": [
              "array([0.1 , 0.15, 0.2 , 0.25, 0.3 , 0.35, 0.4 , 0.45, 0.5 , 0.55, 0.6 ,\n",
              "       0.65, 0.7 , 0.75, 0.8 , 0.85, 0.9 , 0.95])"
            ]
          },
          "metadata": {},
          "execution_count": 54
        }
      ]
    },
    {
      "cell_type": "code",
      "source": [
        "actual_labels = train_data['final_label'].values"
      ],
      "metadata": {
        "id": "h8A5UORny6pD"
      },
      "execution_count": null,
      "outputs": []
    },
    {
      "cell_type": "code",
      "source": [
        "best_threshold, best_predictions, accuracy_history = predict_labels(probs, actual_labels, thresholds) # CODE HERE"
      ],
      "metadata": {
        "id": "CC9yEu-fy6pD"
      },
      "execution_count": null,
      "outputs": []
    },
    {
      "cell_type": "code",
      "source": [
        "best_threshold"
      ],
      "metadata": {
        "colab": {
          "base_uri": "https://localhost:8080/"
        },
        "id": "fliTkxTCSXuV",
        "outputId": "aa50cbe3-332b-4f62-c403-16f2658b711a"
      },
      "execution_count": null,
      "outputs": [
        {
          "output_type": "execute_result",
          "data": {
            "text/plain": [
              "0.6"
            ]
          },
          "metadata": {},
          "execution_count": 57
        }
      ]
    },
    {
      "cell_type": "code",
      "source": [
        "best_predictions[0:5]"
      ],
      "metadata": {
        "colab": {
          "base_uri": "https://localhost:8080/"
        },
        "outputId": "49b32dbc-6f6f-4b60-9c59-d622fa8467d8",
        "id": "mGmo4rPMy6pD"
      },
      "execution_count": null,
      "outputs": [
        {
          "output_type": "execute_result",
          "data": {
            "text/plain": [
              "['food', 'other', 'food', 'food', 'food']"
            ]
          },
          "metadata": {},
          "execution_count": 58
        }
      ]
    },
    {
      "cell_type": "markdown",
      "source": [
        "### <Font color = 'dodgerblue'>**Accuracy**\n",
        "Plot accuracy_history against thresholds\n"
      ],
      "metadata": {
        "id": "Q_k8aK-M3ezj"
      }
    },
    {
      "cell_type": "code",
      "source": [
        "import matplotlib.pyplot as plt\n",
        "\n",
        "plt.plot(thresholds, accuracy_history)\n",
        "plt.title('Accuracy vs Threshold')\n",
        "plt.xlabel('Threshold')\n",
        "plt.ylabel('Accuracy')\n",
        "plt.axvline(x=best_threshold, color='r', linestyle='--', label=f'Best Threshold: {best_threshold}')\n",
        "plt.legend()\n",
        "plt.show()"
      ],
      "metadata": {
        "colab": {
          "base_uri": "https://localhost:8080/",
          "height": 472
        },
        "id": "KadwyerGSnCg",
        "outputId": "18ce38fe-0d2a-4aa2-e963-b16306b08f2b"
      },
      "execution_count": null,
      "outputs": [
        {
          "output_type": "display_data",
          "data": {
            "text/plain": [
              "<Figure size 640x480 with 1 Axes>"
            ],
            "image/png": "[encoded data removed]"
          },
          "metadata": {}
        }
      ]
    },
    {
      "cell_type": "code",
      "source": [
        "# Best  Accuracy\n",
        "accuracy = 100 *accuracy_score(train_data['final_label'].values, best_predictions)\n",
        "accuracy"
      ],
      "metadata": {
        "colab": {
          "base_uri": "https://localhost:8080/"
        },
        "id": "EeWKpvAYS5T8",
        "outputId": "af731f09-f70f-4d12-f876-3366a57b81da"
      },
      "execution_count": null,
      "outputs": [
        {
          "output_type": "execute_result",
          "data": {
            "text/plain": [
              "80.13698630136986"
            ]
          },
          "metadata": {},
          "execution_count": 60
        }
      ]
    },
    {
      "cell_type": "markdown",
      "source": [
        "Is the accuracy better than Task 2?\n",
        "\n",
        "**We can see that accuracy has slightly improved from Task2 (where we passed all four labels)**"
      ],
      "metadata": {
        "id": "hudKC0eq6Y0N"
      }
    },
    {
      "cell_type": "markdown",
      "source": [
        "### <Font color = 'dodgerblue'>**Confusion Matrix**"
      ],
      "metadata": {
        "id": "VC13lEJ47bhK"
      }
    },
    {
      "cell_type": "code",
      "source": [
        "\n",
        "label_index = {'food':0, 'service':1, 'ambiance':2, 'other':3}\n",
        "y_predicted =   np.array([label_index[label] for label in best_predictions])\n",
        "y_true = np.array([label_index[label] for label in train_data['final_label'].values])"
      ],
      "metadata": {
        "id": "yIS3NwM57bhK"
      },
      "execution_count": null,
      "outputs": []
    },
    {
      "cell_type": "code",
      "source": [
        "confusion_matrix(y_true, y_predicted)"
      ],
      "metadata": {
        "colab": {
          "base_uri": "https://localhost:8080/"
        },
        "outputId": "5349a20b-d4e8-49a4-a514-c05ed64286db",
        "id": "FaXAw5wj7bhK"
      },
      "execution_count": null,
      "outputs": [
        {
          "output_type": "execute_result",
          "data": {
            "text/plain": [
              "array([[256,   4,   1,  18],\n",
              "       [ 16,  82,   2,  20],\n",
              "       [  5,   1,  29,  11],\n",
              "       [ 25,  11,   2, 101]])"
            ]
          },
          "metadata": {},
          "execution_count": 62
        }
      ]
    },
    {
      "cell_type": "code",
      "source": [
        "fig, ax = plt.subplots(figsize=(5, 4))\n",
        "ConfusionMatrixDisplay.from_predictions(\n",
        "    y_true=y_true,\n",
        "    y_pred=y_predicted,\n",
        "    ax=ax,\n",
        "    normalize=\"true\",\n",
        "    display_labels=['food', 'setrvice', 'ambiance', 'other'],\n",
        ")"
      ],
      "metadata": {
        "colab": {
          "base_uri": "https://localhost:8080/",
          "height": 406
        },
        "id": "-T0aKYa7TLKa",
        "outputId": "bff30545-8400-4d80-d84f-ad8c33460f2b"
      },
      "execution_count": null,
      "outputs": [
        {
          "output_type": "execute_result",
          "data": {
            "text/plain": [
              "<sklearn.metrics._plot.confusion_matrix.ConfusionMatrixDisplay at 0x7f3bcbc12e60>"
            ]
          },
          "metadata": {},
          "execution_count": 63
        },
        {
          "output_type": "display_data",
          "data": {
            "text/plain": [
              "<Figure size 500x400 with 2 Axes>"
            ],
            "image/png": "[encoded data removed]"
          },
          "metadata": {}
        }
      ]
    }
  ],
  "metadata": {
    "colab": {
      "gpuType": "T4",
      "machine_shape": "hm",
      "provenance": []
    },
    "kernelspec": {
      "display_name": "Python 3 (ipykernel)",
      "language": "python",
      "name": "python3"
    },
    "language_info": {
      "codemirror_mode": {
        "name": "ipython",
        "version": 3
      },
      "file_extension": ".py",
      "mimetype": "text/x-python",
      "name": "python",
      "nbconvert_exporter": "python",
      "pygments_lexer": "ipython3",
      "version": "3.10.10"
    }
  },
  "nbformat": 4,
  "nbformat_minor": 0
}